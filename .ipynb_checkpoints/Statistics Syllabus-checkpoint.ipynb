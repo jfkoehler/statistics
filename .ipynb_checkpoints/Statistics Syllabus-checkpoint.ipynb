{
 "cells": [
  {
   "cell_type": "markdown",
   "metadata": {},
   "source": [
    "# Introduction to Statistics\n",
    "\n",
    "**Fall 2020**\n",
    "\n",
    "**Instructor**: Jacob F. Koehler\n",
    "\n",
    "**Office Hours**: Thursdays 5:30 pm - 6:30 pm\n",
    "\n",
    "**Contact**: koehlerj@newschool.edu\n",
    "\n",
    "**Course github**: \n",
    "\n",
    "**Course Documentation**:\n",
    "\n",
    "## Course Description\n",
    "\n",
    "This course is an introduction to statistics using software. Emphasis is on exploring quantitative data and applying concepts to a range of situations. Topics include descriptive statistics, basic probability, normal distributions, correlation, linear regression, and hypothesis tests. The course combines lectures, discussions, and computer assignments. This course is offered every semester and fulfills the second math requirement for the Interdisciplinary Science major and is a Requirement for the Environmental Studies and Psychology Majors.\n",
    "\n",
    "## Course Objectives\n",
    "\n",
    "This course is meant to introduce basic statistical techniques and predictive algorithms.  By the end of the course, the student should be comfortable with basic statistical concepts, use technology to actualize these concepts on real datasets, and present original findings based on analysis of data.  We assume little prior experience in computing and statistics.\n",
    "\n",
    "## Learning Outcomes\n",
    "\n",
    "By the successful completion of the course students will be able to:\n",
    "\n",
    "- Use software to explore and visualize data\n",
    "- Identify opportunities and shortcomings of Hypothesis tests\n",
    "- \n",
    "\n"
   ]
  },
  {
   "cell_type": "code",
   "execution_count": null,
   "metadata": {},
   "outputs": [],
   "source": []
  }
 ],
 "metadata": {
  "kernelspec": {
   "display_name": "Python 3",
   "language": "python",
   "name": "python3"
  },
  "language_info": {
   "codemirror_mode": {
    "name": "ipython",
    "version": 3
   },
   "file_extension": ".py",
   "mimetype": "text/x-python",
   "name": "python",
   "nbconvert_exporter": "python",
   "pygments_lexer": "ipython3",
   "version": "3.7.4"
  },
  "widgets": {
   "application/vnd.jupyter.widget-state+json": {
    "state": {},
    "version_major": 2,
    "version_minor": 0
   }
  }
 },
 "nbformat": 4,
 "nbformat_minor": 4
}
