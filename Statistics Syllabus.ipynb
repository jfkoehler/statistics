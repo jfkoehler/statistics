{
 "cells": [
  {
   "cell_type": "markdown",
   "metadata": {},
   "source": [
    "# Introduction to Statistics\n",
    "\n",
    "**Fall 2020**\n",
    "\n",
    "**Instructor**: Jacob F. Koehler\n",
    "\n",
    "**Office Hours**: Thursdays 5:30 pm - 6:30 pm\n",
    "\n",
    "**Contact**: koehlerj@newschool.edu\n",
    "\n",
    "**Course github**: \n",
    "\n",
    "**Course Documentation**:\n",
    "\n",
    "## Course Description\n",
    "\n",
    "This course is an introduction to statistics using software. Emphasis is on exploring quantitative data and applying concepts to a range of situations. Topics include descriptive statistics, basic probability, normal distributions, correlation, linear regression, and hypothesis tests. The course combines lectures, discussions, and computer assignments. This course is offered every semester and fulfills the second math requirement for the Interdisciplinary Science major and is a Requirement for the Environmental Studies and Psychology Majors.\n",
    "\n",
    "## Course Objectives\n",
    "\n",
    "This course is meant to introduce basic statistical techniques and predictive algorithms.  By the end of the course, the student should be comfortable with basic statistical concepts, use technology to actualize these concepts on real datasets, and present original findings based on analysis of data.  We assume little prior experience in computing and statistics.\n",
    "\n",
    "## Learning Outcomes\n",
    "\n",
    "Students successful in completing this course will be well positioned **producers** of statistical analysis using technology.  Further, in alignment with the American Statistical Association GAISE standards, students should know and be able to:\n",
    "\n",
    "- Become *critical consumers* of statiscally-based results repoted in popular media\n",
    "- Recognize questions for which the *investigative process* in statistics would be useful and should be able to answer questions\n",
    "- Produce *graphical displays and numerical summaries* using technology with appropriate interpretation\n",
    "- Recognize and explain the role of random processes in designing studies \n",
    "- Build and analyze *statistical models* for problems in regression, classification, and clustering settings\n",
    "- Use *statistical inference* in conducting hypothesis tests and interval estimation\n",
    "- Demonstrate awareness of historical emergence of statistical thinking and the political setting of analyses of the other.\n",
    "\n",
    "## Course Materials\n",
    "\n",
    "**Textbooks**: We will use both the [OpenStax Introductory Statistics](https://openstax.org/details/books/introductory-statistics) textbook and the Berkeley Data8 text [Computational and Inferential Thinking](https://www.inferentialthinking.com/chapters/intro.html) as our primary resources for technical information.  \n",
    "\n",
    "**Readings**: All additional weekly readings and experiments will be provided a `.pdf` files in canvas upon assignment.\n",
    "\n",
    "**Assignments and Labs**:  All assignments and labs will be made available as google collab notebooks upon assignment in canvas.\n",
    "\n",
    "## Course Requirements\n",
    "\n",
    "- **Weekly Lab**: Each week you will have a lab exercise that will be submitted and autograded in canvas: 20% \n",
    "- **Group Projects**: You will have three group projects through the semester that culminate in a 5 minute in-class presentation using datasets of your own choice: 20%\n",
    "- **Reading Lead**: Each week a class member will be responsible for facilitating conversations around our weekly readings.  Three individuals will be responsible each class: 20%.\n",
    "- **Share a Paper**: Each class a student will present and share an interesting experiment and paper.  You will do this once through the semester, and we will aim to explore historically interesting psychological experiments: 20%.\n",
    "- **Final Project**: An original statistical analysis on a dataset of your choosing that will culminate in a 5 minute presentation in class: 20%."
   ]
  },
  {
   "cell_type": "markdown",
   "metadata": {},
   "source": [
    "## Schedule\n",
    "\n",
    "- **Week 1**: *Accessing and Exploring Data*\n",
    "- **Week 2**: *Descriptive Statistics and Distributions*\n",
    "- **Week 3**: *Observational Studies and Experiments*\n",
    "- **Week 4**: *Relationships between Features and correlation*\n",
    "- **Week 5**: *Linear Regression*\n",
    "- **Week 6**: *Causation and Regression*\n",
    "- **Week 7**: *Introduction to Probability*\n",
    "- **Week 8**: *Compound Events*\n",
    "- **Week 9**: *Introduction to Sampling*\n",
    "- **Week 10**: *Confidence Intervals*\n",
    "- **Week 11**: *Hypothesis Testing*\n",
    "- **Week 12**: *Inference and Interpretation*\n",
    "- **Week 13**: *Introduction to Classification*\n",
    "- **Week 14**: *Logistic Regression*\n",
    "- **Week 15**: *Final Presentations*"
   ]
  },
  {
   "cell_type": "code",
   "execution_count": null,
   "metadata": {},
   "outputs": [],
   "source": []
  }
 ],
 "metadata": {
  "kernelspec": {
   "display_name": "Python 3",
   "language": "python",
   "name": "python3"
  },
  "language_info": {
   "codemirror_mode": {
    "name": "ipython",
    "version": 3
   },
   "file_extension": ".py",
   "mimetype": "text/x-python",
   "name": "python",
   "nbconvert_exporter": "python",
   "pygments_lexer": "ipython3",
   "version": "3.7.4"
  },
  "widgets": {
   "application/vnd.jupyter.widget-state+json": {
    "state": {},
    "version_major": 2,
    "version_minor": 0
   }
  }
 },
 "nbformat": 4,
 "nbformat_minor": 4
}
